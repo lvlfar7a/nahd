{
 "cells": [
  {
   "cell_type": "code",
   "execution_count": 73,
   "id": "80f3f2dc-fe85-4bc2-aabd-4a323d5bcba9",
   "metadata": {},
   "outputs": [
    {
     "name": "stdin",
     "output_type": "stream",
     "text": [
      "please input the numbers ('with space') 1 2 3 4\n"
     ]
    },
    {
     "name": "stdout",
     "output_type": "stream",
     "text": [
      "the total is 10 . \n",
      " the average is : 2.5 . \n"
     ]
    }
   ],
   "source": [
    "def totalaverage():\n",
    "    numbers=list(map(int,input(\"please input the numbers ('with space')\").split()))\n",
    "    total = sum(numbers)\n",
    "    average= total / len(numbers if numbers else 0)\n",
    "    print(f\"the total is {total} . \\n the average is : {average} . \")\n",
    "\n",
    "totalaverage()"
   ]
  },
  {
   "cell_type": "code",
   "execution_count": 143,
   "id": "e1d261c3-d1fc-4ee6-8554-24b472835fc1",
   "metadata": {},
   "outputs": [
    {
     "name": "stdin",
     "output_type": "stream",
     "text": [
      "please input the number -1\n",
      "please input the number 3\n"
     ]
    },
    {
     "name": "stdout",
     "output_type": "stream",
     "text": [
      "the factorial of 3 is 6 .\n"
     ]
    }
   ],
   "source": [
    "number=int(input(\"please input the number\"))\n",
    "while number < 0:\n",
    "        number=int(input(\"please input the number\"))\n",
    "def factorial():\n",
    "    \n",
    "    factorial=1\n",
    "    for i in range (1, number+1):\n",
    "            factorial*=i\n",
    "    \n",
    "    print(f\"the factorial of {number} is {factorial} .\")\n",
    "    \n",
    "factorial()"
   ]
  },
  {
   "cell_type": "code",
   "execution_count": 75,
   "id": "8232d1d1-d706-48df-a8c3-8cdc16ffe8d6",
   "metadata": {},
   "outputs": [
    {
     "name": "stdin",
     "output_type": "stream",
     "text": [
      "please enter the length 2\n",
      "please enter the width 2\n"
     ]
    },
    {
     "name": "stdout",
     "output_type": "stream",
     "text": [
      "the area of rectangle is 4\n"
     ]
    }
   ],
   "source": [
    "def area():\n",
    "    length=int(input(\"please enter the length\"))\n",
    "    width=int(input(\"please enter the width\"))\n",
    "    area = length*width\n",
    "    print(f\"the area of rectangle is {area}\")\n",
    "area()"
   ]
  },
  {
   "cell_type": "code",
   "execution_count": 77,
   "id": "1400d50d-e5b9-4951-b2c4-ba467a173231",
   "metadata": {},
   "outputs": [
    {
     "name": "stdin",
     "output_type": "stream",
     "text": [
      "please input your number 5\n"
     ]
    },
    {
     "name": "stdout",
     "output_type": "stream",
     "text": [
      "the 5 is positive\n"
     ]
    }
   ],
   "source": [
    "def pos_or_neg_or_0():\n",
    "    number=int(input(\"please input your number\"))\n",
    "    m=0\n",
    "    if number > m:\n",
    "        print(f\"the {number} is positive\")\n",
    "    elif number < m:\n",
    "        print(f\"the {number} is negative\")\n",
    "    else:\n",
    "        print(\"the number is zero\")\n",
    "pos_or_neg_or_0()        "
   ]
  },
  {
   "cell_type": "code",
   "execution_count": 78,
   "id": "2a52768f-df12-4227-be81-5bd5b412ae50",
   "metadata": {},
   "outputs": [
    {
     "name": "stdout",
     "output_type": "stream",
     "text": [
      "abcdefghijklmnopqrstuvwxyz\n"
     ]
    }
   ],
   "source": [
    "import string\n",
    "stri=string.ascii_lowercase\n",
    "print(stri)"
   ]
  },
  {
   "cell_type": "code",
   "execution_count": 93,
   "id": "2e41f41c-1046-4dfe-8e58-d68acbe10933",
   "metadata": {},
   "outputs": [
    {
     "name": "stdout",
     "output_type": "stream",
     "text": [
      "a\n",
      "b\n",
      "c\n",
      "d\n",
      "e\n",
      "f\n",
      "g\n",
      "h\n",
      "i\n",
      "j\n",
      "k\n",
      "l\n",
      "m\n",
      "n\n",
      "o\n",
      "p\n",
      "q\n",
      "r\n",
      "s\n",
      "t\n",
      "u\n",
      "v\n",
      "w\n",
      "x\n",
      "y\n",
      "z\n"
     ]
    }
   ],
   "source": [
    "import string\n",
    "stri=string.ascii_lowercase\n",
    "for i in stri:\n",
    "    print(i)"
   ]
  },
  {
   "cell_type": "code",
   "execution_count": 95,
   "id": "2b215b0b-9bd7-4ea6-bc87-6b9a79cc898c",
   "metadata": {},
   "outputs": [
    {
     "name": "stdout",
     "output_type": "stream",
     "text": [
      "A\n",
      "B\n",
      "C\n",
      "D\n",
      "E\n",
      "F\n",
      "G\n",
      "H\n",
      "I\n",
      "J\n",
      "K\n",
      "L\n",
      "M\n",
      "N\n",
      "O\n",
      "P\n",
      "Q\n",
      "R\n",
      "S\n",
      "T\n",
      "U\n",
      "V\n",
      "W\n",
      "X\n",
      "Y\n",
      "Z\n"
     ]
    }
   ],
   "source": [
    "import string\n",
    "str_=string.ascii_uppercase\n",
    "for i in str_:\n",
    "    print(i)"
   ]
  },
  {
   "cell_type": "code",
   "execution_count": null,
   "id": "a2ece705-4735-4c7f-a869-8dfe123c9ae5",
   "metadata": {
    "jp-MarkdownHeadingCollapsed": true
   },
   "outputs": [],
   "source": [
    "def convert():\n",
    "    word=list(map(int,input(\"input\").split()))\n",
    "    word2=float(word)\n",
    "    print(word2)\n",
    "\n",
    "convert()"
   ]
  },
  {
   "cell_type": "code",
   "execution_count": null,
   "id": "e4a160f7-6987-4e28-9cb4-bf0904774768",
   "metadata": {},
   "outputs": [],
   "source": [
    "number=int(input(\"please input the number\"))\n",
    "def factorial():\n",
    "    factorial=1\n",
    "    for i in range (1, number+1):\n",
    "            factorial*=i\n",
    "    while number < 0:\n",
    "        int(input(\"please input another number\"))\n",
    "        print(f\"the factorial of {number} is {factorial} .\")\n",
    "    \n",
    "factorial()"
   ]
  },
  {
   "cell_type": "code",
   "execution_count": 130,
   "id": "d88685cc-4ed5-453f-b772-26fc0398afe2",
   "metadata": {},
   "outputs": [
    {
     "name": "stdin",
     "output_type": "stream",
     "text": [
      "w 1 2 3 4 5\n"
     ]
    },
    {
     "name": "stdout",
     "output_type": "stream",
     "text": [
      "result:1.0;2.0;3.0;4.0;5.0\n"
     ]
    }
   ],
   "source": [
    "floats=list(map(float , input(\"w\").split()))\n",
    "result= \";\".join(map(str,floats))\n",
    "print(f\"result:{result}\")"
   ]
  },
  {
   "cell_type": "code",
   "execution_count": 131,
   "id": "953c70fb-d4e2-4858-9093-52e5f1dd31d6",
   "metadata": {},
   "outputs": [
    {
     "name": "stdin",
     "output_type": "stream",
     "text": [
      "  1 2 3 4\n"
     ]
    },
    {
     "name": "stdout",
     "output_type": "stream",
     "text": [
      "result : 1.0;2.0;3.0;4.0\n"
     ]
    }
   ],
   "source": [
    "floats=list(map(float , input(\" \").split()))\n",
    "result= \";\".join(map(str,floats))\n",
    "print(f\"result : {result}\")"
   ]
  },
  {
   "cell_type": "code",
   "execution_count": null,
   "id": "4131edaf-0b47-4253-8540-8ac95d1a410f",
   "metadata": {},
   "outputs": [],
   "source": []
  }
 ],
 "metadata": {
  "kernelspec": {
   "display_name": "Python 3 (ipykernel)",
   "language": "python",
   "name": "python3"
  },
  "language_info": {
   "codemirror_mode": {
    "name": "ipython",
    "version": 3
   },
   "file_extension": ".py",
   "mimetype": "text/x-python",
   "name": "python",
   "nbconvert_exporter": "python",
   "pygments_lexer": "ipython3",
   "version": "3.13.0"
  }
 },
 "nbformat": 4,
 "nbformat_minor": 5
}
